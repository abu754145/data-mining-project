{
  "cells": [
    {
      "cell_type": "markdown",
      "metadata": {
        "id": "view-in-github",
        "colab_type": "text"
      },
      "source": [
        "<a href=\"https://colab.research.google.com/github/abu754145/data-mining-project/blob/main/Final_Project(Data_Mining).ipynb\" target=\"_parent\"><img src=\"https://colab.research.google.com/assets/colab-badge.svg\" alt=\"Open In Colab\"/></a>"
      ]
    },
    {
      "cell_type": "code",
      "execution_count": null,
      "metadata": {
        "id": "ITK0wB4LBvBw"
      },
      "outputs": [],
      "source": [
        "import pandas as pd\n",
        "import numpy as np\n",
        "import matplotlib.pyplot as plt\n",
        "import seaborn as sns\n",
        "import warnings\n",
        "warnings.filterwarnings('ignore')"
      ]
    },
    {
      "cell_type": "code",
      "execution_count": null,
      "metadata": {
        "id": "a3R24BvlCC94"
      },
      "outputs": [],
      "source": [
        "sal_data = pd.read_csv('/content/drive/MyDrive/Salaries.csv')"
      ]
    },
    {
      "cell_type": "code",
      "execution_count": null,
      "metadata": {
        "colab": {
          "base_uri": "https://localhost:8080/",
          "height": 293
        },
        "id": "W2CpNA2wCinl",
        "outputId": "81ecb50f-bd10-4529-f4ee-c6b24f3e00d9"
      },
      "outputs": [
        {
          "output_type": "execute_result",
          "data": {
            "text/plain": [
              "   Id       EmployeeName                                        JobTitle  \\\n",
              "0   1     NATHANIEL FORD  GENERAL MANAGER-METROPOLITAN TRANSIT AUTHORITY   \n",
              "1   2       GARY JIMENEZ                 CAPTAIN III (POLICE DEPARTMENT)   \n",
              "2   3     ALBERT PARDINI                 CAPTAIN III (POLICE DEPARTMENT)   \n",
              "3   4  CHRISTOPHER CHONG            WIRE ROPE CABLE MAINTENANCE MECHANIC   \n",
              "4   5    PATRICK GARDNER    DEPUTY CHIEF OF DEPARTMENT,(FIRE DEPARTMENT)   \n",
              "\n",
              "     BasePay OvertimePay   OtherPay Benefits   TotalPay  TotalPayBenefits  \\\n",
              "0  167411.18         0.0  400184.25      NaN  567595.43         567595.43   \n",
              "1  155966.02   245131.88  137811.38      NaN  538909.28         538909.28   \n",
              "2  212739.13   106088.18    16452.6      NaN  335279.91         335279.91   \n",
              "3    77916.0    56120.71   198306.9      NaN  332343.61         332343.61   \n",
              "4   134401.6      9737.0  182234.59      NaN  326373.19         326373.19   \n",
              "\n",
              "   Year  Notes         Agency Status  \n",
              "0  2011    NaN  San Francisco    NaN  \n",
              "1  2011    NaN  San Francisco    NaN  \n",
              "2  2011    NaN  San Francisco    NaN  \n",
              "3  2011    NaN  San Francisco    NaN  \n",
              "4  2011    NaN  San Francisco    NaN  "
            ],
            "text/html": [
              "\n",
              "  <div id=\"df-c2657d49-6059-4db0-80cf-32e317270bfc\" class=\"colab-df-container\">\n",
              "    <div>\n",
              "<style scoped>\n",
              "    .dataframe tbody tr th:only-of-type {\n",
              "        vertical-align: middle;\n",
              "    }\n",
              "\n",
              "    .dataframe tbody tr th {\n",
              "        vertical-align: top;\n",
              "    }\n",
              "\n",
              "    .dataframe thead th {\n",
              "        text-align: right;\n",
              "    }\n",
              "</style>\n",
              "<table border=\"1\" class=\"dataframe\">\n",
              "  <thead>\n",
              "    <tr style=\"text-align: right;\">\n",
              "      <th></th>\n",
              "      <th>Id</th>\n",
              "      <th>EmployeeName</th>\n",
              "      <th>JobTitle</th>\n",
              "      <th>BasePay</th>\n",
              "      <th>OvertimePay</th>\n",
              "      <th>OtherPay</th>\n",
              "      <th>Benefits</th>\n",
              "      <th>TotalPay</th>\n",
              "      <th>TotalPayBenefits</th>\n",
              "      <th>Year</th>\n",
              "      <th>Notes</th>\n",
              "      <th>Agency</th>\n",
              "      <th>Status</th>\n",
              "    </tr>\n",
              "  </thead>\n",
              "  <tbody>\n",
              "    <tr>\n",
              "      <th>0</th>\n",
              "      <td>1</td>\n",
              "      <td>NATHANIEL FORD</td>\n",
              "      <td>GENERAL MANAGER-METROPOLITAN TRANSIT AUTHORITY</td>\n",
              "      <td>167411.18</td>\n",
              "      <td>0.0</td>\n",
              "      <td>400184.25</td>\n",
              "      <td>NaN</td>\n",
              "      <td>567595.43</td>\n",
              "      <td>567595.43</td>\n",
              "      <td>2011</td>\n",
              "      <td>NaN</td>\n",
              "      <td>San Francisco</td>\n",
              "      <td>NaN</td>\n",
              "    </tr>\n",
              "    <tr>\n",
              "      <th>1</th>\n",
              "      <td>2</td>\n",
              "      <td>GARY JIMENEZ</td>\n",
              "      <td>CAPTAIN III (POLICE DEPARTMENT)</td>\n",
              "      <td>155966.02</td>\n",
              "      <td>245131.88</td>\n",
              "      <td>137811.38</td>\n",
              "      <td>NaN</td>\n",
              "      <td>538909.28</td>\n",
              "      <td>538909.28</td>\n",
              "      <td>2011</td>\n",
              "      <td>NaN</td>\n",
              "      <td>San Francisco</td>\n",
              "      <td>NaN</td>\n",
              "    </tr>\n",
              "    <tr>\n",
              "      <th>2</th>\n",
              "      <td>3</td>\n",
              "      <td>ALBERT PARDINI</td>\n",
              "      <td>CAPTAIN III (POLICE DEPARTMENT)</td>\n",
              "      <td>212739.13</td>\n",
              "      <td>106088.18</td>\n",
              "      <td>16452.6</td>\n",
              "      <td>NaN</td>\n",
              "      <td>335279.91</td>\n",
              "      <td>335279.91</td>\n",
              "      <td>2011</td>\n",
              "      <td>NaN</td>\n",
              "      <td>San Francisco</td>\n",
              "      <td>NaN</td>\n",
              "    </tr>\n",
              "    <tr>\n",
              "      <th>3</th>\n",
              "      <td>4</td>\n",
              "      <td>CHRISTOPHER CHONG</td>\n",
              "      <td>WIRE ROPE CABLE MAINTENANCE MECHANIC</td>\n",
              "      <td>77916.0</td>\n",
              "      <td>56120.71</td>\n",
              "      <td>198306.9</td>\n",
              "      <td>NaN</td>\n",
              "      <td>332343.61</td>\n",
              "      <td>332343.61</td>\n",
              "      <td>2011</td>\n",
              "      <td>NaN</td>\n",
              "      <td>San Francisco</td>\n",
              "      <td>NaN</td>\n",
              "    </tr>\n",
              "    <tr>\n",
              "      <th>4</th>\n",
              "      <td>5</td>\n",
              "      <td>PATRICK GARDNER</td>\n",
              "      <td>DEPUTY CHIEF OF DEPARTMENT,(FIRE DEPARTMENT)</td>\n",
              "      <td>134401.6</td>\n",
              "      <td>9737.0</td>\n",
              "      <td>182234.59</td>\n",
              "      <td>NaN</td>\n",
              "      <td>326373.19</td>\n",
              "      <td>326373.19</td>\n",
              "      <td>2011</td>\n",
              "      <td>NaN</td>\n",
              "      <td>San Francisco</td>\n",
              "      <td>NaN</td>\n",
              "    </tr>\n",
              "  </tbody>\n",
              "</table>\n",
              "</div>\n",
              "    <div class=\"colab-df-buttons\">\n",
              "\n",
              "  <div class=\"colab-df-container\">\n",
              "    <button class=\"colab-df-convert\" onclick=\"convertToInteractive('df-c2657d49-6059-4db0-80cf-32e317270bfc')\"\n",
              "            title=\"Convert this dataframe to an interactive table.\"\n",
              "            style=\"display:none;\">\n",
              "\n",
              "  <svg xmlns=\"http://www.w3.org/2000/svg\" height=\"24px\" viewBox=\"0 -960 960 960\">\n",
              "    <path d=\"M120-120v-720h720v720H120Zm60-500h600v-160H180v160Zm220 220h160v-160H400v160Zm0 220h160v-160H400v160ZM180-400h160v-160H180v160Zm440 0h160v-160H620v160ZM180-180h160v-160H180v160Zm440 0h160v-160H620v160Z\"/>\n",
              "  </svg>\n",
              "    </button>\n",
              "\n",
              "  <style>\n",
              "    .colab-df-container {\n",
              "      display:flex;\n",
              "      gap: 12px;\n",
              "    }\n",
              "\n",
              "    .colab-df-convert {\n",
              "      background-color: #E8F0FE;\n",
              "      border: none;\n",
              "      border-radius: 50%;\n",
              "      cursor: pointer;\n",
              "      display: none;\n",
              "      fill: #1967D2;\n",
              "      height: 32px;\n",
              "      padding: 0 0 0 0;\n",
              "      width: 32px;\n",
              "    }\n",
              "\n",
              "    .colab-df-convert:hover {\n",
              "      background-color: #E2EBFA;\n",
              "      box-shadow: 0px 1px 2px rgba(60, 64, 67, 0.3), 0px 1px 3px 1px rgba(60, 64, 67, 0.15);\n",
              "      fill: #174EA6;\n",
              "    }\n",
              "\n",
              "    .colab-df-buttons div {\n",
              "      margin-bottom: 4px;\n",
              "    }\n",
              "\n",
              "    [theme=dark] .colab-df-convert {\n",
              "      background-color: #3B4455;\n",
              "      fill: #D2E3FC;\n",
              "    }\n",
              "\n",
              "    [theme=dark] .colab-df-convert:hover {\n",
              "      background-color: #434B5C;\n",
              "      box-shadow: 0px 1px 3px 1px rgba(0, 0, 0, 0.15);\n",
              "      filter: drop-shadow(0px 1px 2px rgba(0, 0, 0, 0.3));\n",
              "      fill: #FFFFFF;\n",
              "    }\n",
              "  </style>\n",
              "\n",
              "    <script>\n",
              "      const buttonEl =\n",
              "        document.querySelector('#df-c2657d49-6059-4db0-80cf-32e317270bfc button.colab-df-convert');\n",
              "      buttonEl.style.display =\n",
              "        google.colab.kernel.accessAllowed ? 'block' : 'none';\n",
              "\n",
              "      async function convertToInteractive(key) {\n",
              "        const element = document.querySelector('#df-c2657d49-6059-4db0-80cf-32e317270bfc');\n",
              "        const dataTable =\n",
              "          await google.colab.kernel.invokeFunction('convertToInteractive',\n",
              "                                                    [key], {});\n",
              "        if (!dataTable) return;\n",
              "\n",
              "        const docLinkHtml = 'Like what you see? Visit the ' +\n",
              "          '<a target=\"_blank\" href=https://colab.research.google.com/notebooks/data_table.ipynb>data table notebook</a>'\n",
              "          + ' to learn more about interactive tables.';\n",
              "        element.innerHTML = '';\n",
              "        dataTable['output_type'] = 'display_data';\n",
              "        await google.colab.output.renderOutput(dataTable, element);\n",
              "        const docLink = document.createElement('div');\n",
              "        docLink.innerHTML = docLinkHtml;\n",
              "        element.appendChild(docLink);\n",
              "      }\n",
              "    </script>\n",
              "  </div>\n",
              "\n",
              "\n",
              "    <div id=\"df-49b396d0-a162-49c3-a43a-b5874bfec94d\">\n",
              "      <button class=\"colab-df-quickchart\" onclick=\"quickchart('df-49b396d0-a162-49c3-a43a-b5874bfec94d')\"\n",
              "                title=\"Suggest charts\"\n",
              "                style=\"display:none;\">\n",
              "\n",
              "<svg xmlns=\"http://www.w3.org/2000/svg\" height=\"24px\"viewBox=\"0 0 24 24\"\n",
              "     width=\"24px\">\n",
              "    <g>\n",
              "        <path d=\"M19 3H5c-1.1 0-2 .9-2 2v14c0 1.1.9 2 2 2h14c1.1 0 2-.9 2-2V5c0-1.1-.9-2-2-2zM9 17H7v-7h2v7zm4 0h-2V7h2v10zm4 0h-2v-4h2v4z\"/>\n",
              "    </g>\n",
              "</svg>\n",
              "      </button>\n",
              "\n",
              "<style>\n",
              "  .colab-df-quickchart {\n",
              "      --bg-color: #E8F0FE;\n",
              "      --fill-color: #1967D2;\n",
              "      --hover-bg-color: #E2EBFA;\n",
              "      --hover-fill-color: #174EA6;\n",
              "      --disabled-fill-color: #AAA;\n",
              "      --disabled-bg-color: #DDD;\n",
              "  }\n",
              "\n",
              "  [theme=dark] .colab-df-quickchart {\n",
              "      --bg-color: #3B4455;\n",
              "      --fill-color: #D2E3FC;\n",
              "      --hover-bg-color: #434B5C;\n",
              "      --hover-fill-color: #FFFFFF;\n",
              "      --disabled-bg-color: #3B4455;\n",
              "      --disabled-fill-color: #666;\n",
              "  }\n",
              "\n",
              "  .colab-df-quickchart {\n",
              "    background-color: var(--bg-color);\n",
              "    border: none;\n",
              "    border-radius: 50%;\n",
              "    cursor: pointer;\n",
              "    display: none;\n",
              "    fill: var(--fill-color);\n",
              "    height: 32px;\n",
              "    padding: 0;\n",
              "    width: 32px;\n",
              "  }\n",
              "\n",
              "  .colab-df-quickchart:hover {\n",
              "    background-color: var(--hover-bg-color);\n",
              "    box-shadow: 0 1px 2px rgba(60, 64, 67, 0.3), 0 1px 3px 1px rgba(60, 64, 67, 0.15);\n",
              "    fill: var(--button-hover-fill-color);\n",
              "  }\n",
              "\n",
              "  .colab-df-quickchart-complete:disabled,\n",
              "  .colab-df-quickchart-complete:disabled:hover {\n",
              "    background-color: var(--disabled-bg-color);\n",
              "    fill: var(--disabled-fill-color);\n",
              "    box-shadow: none;\n",
              "  }\n",
              "\n",
              "  .colab-df-spinner {\n",
              "    border: 2px solid var(--fill-color);\n",
              "    border-color: transparent;\n",
              "    border-bottom-color: var(--fill-color);\n",
              "    animation:\n",
              "      spin 1s steps(1) infinite;\n",
              "  }\n",
              "\n",
              "  @keyframes spin {\n",
              "    0% {\n",
              "      border-color: transparent;\n",
              "      border-bottom-color: var(--fill-color);\n",
              "      border-left-color: var(--fill-color);\n",
              "    }\n",
              "    20% {\n",
              "      border-color: transparent;\n",
              "      border-left-color: var(--fill-color);\n",
              "      border-top-color: var(--fill-color);\n",
              "    }\n",
              "    30% {\n",
              "      border-color: transparent;\n",
              "      border-left-color: var(--fill-color);\n",
              "      border-top-color: var(--fill-color);\n",
              "      border-right-color: var(--fill-color);\n",
              "    }\n",
              "    40% {\n",
              "      border-color: transparent;\n",
              "      border-right-color: var(--fill-color);\n",
              "      border-top-color: var(--fill-color);\n",
              "    }\n",
              "    60% {\n",
              "      border-color: transparent;\n",
              "      border-right-color: var(--fill-color);\n",
              "    }\n",
              "    80% {\n",
              "      border-color: transparent;\n",
              "      border-right-color: var(--fill-color);\n",
              "      border-bottom-color: var(--fill-color);\n",
              "    }\n",
              "    90% {\n",
              "      border-color: transparent;\n",
              "      border-bottom-color: var(--fill-color);\n",
              "    }\n",
              "  }\n",
              "</style>\n",
              "\n",
              "      <script>\n",
              "        async function quickchart(key) {\n",
              "          const quickchartButtonEl =\n",
              "            document.querySelector('#' + key + ' button');\n",
              "          quickchartButtonEl.disabled = true;  // To prevent multiple clicks.\n",
              "          quickchartButtonEl.classList.add('colab-df-spinner');\n",
              "          try {\n",
              "            const charts = await google.colab.kernel.invokeFunction(\n",
              "                'suggestCharts', [key], {});\n",
              "          } catch (error) {\n",
              "            console.error('Error during call to suggestCharts:', error);\n",
              "          }\n",
              "          quickchartButtonEl.classList.remove('colab-df-spinner');\n",
              "          quickchartButtonEl.classList.add('colab-df-quickchart-complete');\n",
              "        }\n",
              "        (() => {\n",
              "          let quickchartButtonEl =\n",
              "            document.querySelector('#df-49b396d0-a162-49c3-a43a-b5874bfec94d button');\n",
              "          quickchartButtonEl.style.display =\n",
              "            google.colab.kernel.accessAllowed ? 'block' : 'none';\n",
              "        })();\n",
              "      </script>\n",
              "    </div>\n",
              "\n",
              "    </div>\n",
              "  </div>\n"
            ],
            "application/vnd.google.colaboratory.intrinsic+json": {
              "type": "dataframe",
              "variable_name": "sal_data"
            }
          },
          "metadata": {},
          "execution_count": 69
        }
      ],
      "source": [
        "sal_data.head()"
      ]
    },
    {
      "cell_type": "code",
      "execution_count": null,
      "metadata": {
        "colab": {
          "base_uri": "https://localhost:8080/"
        },
        "id": "Pp4VTnPeE-zB",
        "outputId": "34f46c3c-7cc0-40ee-d856-d4ab5aea0968"
      },
      "outputs": [
        {
          "output_type": "stream",
          "name": "stdout",
          "text": [
            "Dataset shape (row, column): (148654, 13)\n",
            "Total Rows: 148654\n",
            "Total Columns: 13\n"
          ]
        }
      ],
      "source": [
        "print(\"Dataset shape (row, column):\", sal_data.shape)\n",
        "print(\"Total Rows:\", sal_data.shape[0])\n",
        "print(\"Total Columns:\", sal_data.shape[1])"
      ]
    },
    {
      "cell_type": "code",
      "execution_count": null,
      "metadata": {
        "colab": {
          "base_uri": "https://localhost:8080/"
        },
        "id": "bvxVVXPxFF6k",
        "outputId": "14c43604-74ae-40d5-f8b5-a265cb97f851"
      },
      "outputs": [
        {
          "output_type": "execute_result",
          "data": {
            "text/plain": [
              "Index(['Id', 'EmployeeName', 'JobTitle', 'BasePay', 'OvertimePay', 'OtherPay',\n",
              "       'Benefits', 'TotalPay', 'TotalPayBenefits', 'Year', 'Notes', 'Agency',\n",
              "       'Status'],\n",
              "      dtype='object')"
            ]
          },
          "metadata": {},
          "execution_count": 71
        }
      ],
      "source": [
        "sal_data.columns"
      ]
    },
    {
      "cell_type": "code",
      "execution_count": null,
      "metadata": {
        "colab": {
          "base_uri": "https://localhost:8080/"
        },
        "id": "aLf4BBN0tF3N",
        "outputId": "830fe24f-822d-4d1c-a794-67d686b79839"
      },
      "outputs": [
        {
          "output_type": "stream",
          "name": "stdout",
          "text": [
            "           Id  EmployeeName  JobTitle  BasePay  OvertimePay  OtherPay  \\\n",
            "0       False         False     False    False        False     False   \n",
            "1       False         False     False    False        False     False   \n",
            "2       False         False     False    False        False     False   \n",
            "3       False         False     False    False        False     False   \n",
            "4       False         False     False    False        False     False   \n",
            "...       ...           ...       ...      ...          ...       ...   \n",
            "148649  False         False     False    False        False     False   \n",
            "148650  False         False     False    False        False     False   \n",
            "148651  False         False     False    False        False     False   \n",
            "148652  False         False     False    False        False     False   \n",
            "148653  False         False     False    False        False     False   \n",
            "\n",
            "        Benefits  TotalPay  TotalPayBenefits   Year  Notes  Agency  Status  \n",
            "0           True     False             False  False   True   False    True  \n",
            "1           True     False             False  False   True   False    True  \n",
            "2           True     False             False  False   True   False    True  \n",
            "3           True     False             False  False   True   False    True  \n",
            "4           True     False             False  False   True   False    True  \n",
            "...          ...       ...               ...    ...    ...     ...     ...  \n",
            "148649     False     False             False  False   True   False   False  \n",
            "148650     False     False             False  False   True   False    True  \n",
            "148651     False     False             False  False   True   False    True  \n",
            "148652     False     False             False  False   True   False    True  \n",
            "148653     False     False             False  False   True   False   False  \n",
            "\n",
            "[148654 rows x 13 columns]\n"
          ]
        }
      ],
      "source": [
        "print(sal_data.isnull())"
      ]
    },
    {
      "cell_type": "code",
      "execution_count": null,
      "metadata": {
        "colab": {
          "base_uri": "https://localhost:8080/"
        },
        "id": "yGsPIuMhFV3l",
        "outputId": "1c8a3bba-f732-4500-c6bc-75bd9b1be19c"
      },
      "outputs": [
        {
          "output_type": "stream",
          "name": "stdout",
          "text": [
            "Id                       0\n",
            "EmployeeName             0\n",
            "JobTitle                 0\n",
            "BasePay                605\n",
            "OvertimePay              0\n",
            "OtherPay                 0\n",
            "Benefits             36159\n",
            "TotalPay                 0\n",
            "TotalPayBenefits         0\n",
            "Year                     0\n",
            "Notes               148654\n",
            "Agency                   0\n",
            "Status              110535\n",
            "dtype: int64\n"
          ]
        }
      ],
      "source": [
        "print(sal_data.isnull().sum())"
      ]
    },
    {
      "cell_type": "code",
      "execution_count": null,
      "metadata": {
        "colab": {
          "base_uri": "https://localhost:8080/"
        },
        "id": "fVkNblZ0Fh0I",
        "outputId": "cb46093c-e220-439e-ee93-854ebe966f56"
      },
      "outputs": [
        {
          "output_type": "stream",
          "name": "stdout",
          "text": [
            "Id                    0.000000\n",
            "EmployeeName          0.000000\n",
            "JobTitle              0.000000\n",
            "BasePay               0.406985\n",
            "OvertimePay           0.000000\n",
            "OtherPay              0.000000\n",
            "Benefits             24.324270\n",
            "TotalPay              0.000000\n",
            "TotalPayBenefits      0.000000\n",
            "Year                  0.000000\n",
            "Notes               100.000000\n",
            "Agency                0.000000\n",
            "Status               74.357232\n",
            "dtype: float64\n"
          ]
        }
      ],
      "source": [
        "missing_percent = sal_data.isnull().mean() * 100\n",
        "print(missing_percent)"
      ]
    },
    {
      "cell_type": "code",
      "execution_count": null,
      "metadata": {
        "id": "MkspP8XuFjhc"
      },
      "outputs": [],
      "source": [
        "sal_data['BasePay'].fillna(0, inplace=True)\n",
        "sal_data['OvertimePay'].fillna(0, inplace=True)\n",
        "sal_data['OtherPay'].fillna(0, inplace=True)\n",
        "sal_data['Benefits'].fillna(0, inplace=True)"
      ]
    },
    {
      "cell_type": "code",
      "execution_count": null,
      "metadata": {
        "colab": {
          "base_uri": "https://localhost:8080/"
        },
        "id": "p5XojnUBFoVc",
        "outputId": "770f0801-0631-44e4-85d8-ee0aa1c1ae1c"
      },
      "outputs": [
        {
          "output_type": "stream",
          "name": "stdout",
          "text": [
            "Id                       0\n",
            "EmployeeName             0\n",
            "JobTitle                 0\n",
            "BasePay                  0\n",
            "OvertimePay              0\n",
            "OtherPay                 0\n",
            "Benefits                 0\n",
            "TotalPay                 0\n",
            "TotalPayBenefits         0\n",
            "Year                     0\n",
            "Notes               148654\n",
            "Agency                   0\n",
            "Status              110535\n",
            "dtype: int64\n"
          ]
        }
      ],
      "source": [
        "print(sal_data.isnull().sum())"
      ]
    },
    {
      "cell_type": "code",
      "execution_count": null,
      "metadata": {
        "id": "fvHTvnBGFpUF"
      },
      "outputs": [],
      "source": [
        "sal_data.drop(['Notes', 'Status'], axis=1, inplace=True)"
      ]
    },
    {
      "cell_type": "code",
      "execution_count": null,
      "metadata": {
        "colab": {
          "base_uri": "https://localhost:8080/"
        },
        "id": "q_xdvr1hFuym",
        "outputId": "7fcc11b9-e6dc-4aad-bc1b-c62498b90610"
      },
      "outputs": [
        {
          "output_type": "stream",
          "name": "stdout",
          "text": [
            "Id                  0\n",
            "EmployeeName        0\n",
            "JobTitle            0\n",
            "BasePay             0\n",
            "OvertimePay         0\n",
            "OtherPay            0\n",
            "Benefits            0\n",
            "TotalPay            0\n",
            "TotalPayBenefits    0\n",
            "Year                0\n",
            "Agency              0\n",
            "dtype: int64\n"
          ]
        }
      ],
      "source": [
        "print(sal_data.isnull().sum())"
      ]
    },
    {
      "cell_type": "code",
      "execution_count": null,
      "metadata": {
        "colab": {
          "base_uri": "https://localhost:8080/"
        },
        "id": "JGAYQAS1Fv4g",
        "outputId": "771a9eda-356e-486e-d70f-40f3cdf14b4d"
      },
      "outputs": [
        {
          "output_type": "stream",
          "name": "stdout",
          "text": [
            "Index(['Id', 'EmployeeName', 'JobTitle', 'BasePay', 'OvertimePay', 'OtherPay',\n",
            "       'Benefits', 'TotalPay', 'TotalPayBenefits', 'Year', 'Agency'],\n",
            "      dtype='object')\n"
          ]
        }
      ],
      "source": [
        "print(sal_data.columns)"
      ]
    },
    {
      "cell_type": "code",
      "execution_count": null,
      "metadata": {
        "colab": {
          "base_uri": "https://localhost:8080/"
        },
        "id": "qMGZKKHDFyYe",
        "outputId": "8170bc8d-5c10-4fdd-cba7-39b68e456bc2"
      },
      "outputs": [
        {
          "output_type": "stream",
          "name": "stdout",
          "text": [
            "                                         JobTitle    BasePay OvertimePay  \\\n",
            "0  GENERAL MANAGER-METROPOLITAN TRANSIT AUTHORITY  167411.18         0.0   \n",
            "1                 CAPTAIN III (POLICE DEPARTMENT)  155966.02   245131.88   \n",
            "2                 CAPTAIN III (POLICE DEPARTMENT)  212739.13   106088.18   \n",
            "3            WIRE ROPE CABLE MAINTENANCE MECHANIC    77916.0    56120.71   \n",
            "4    DEPUTY CHIEF OF DEPARTMENT,(FIRE DEPARTMENT)   134401.6      9737.0   \n",
            "\n",
            "    OtherPay Benefits   TotalPay  TotalPayBenefits  Year         Agency  \n",
            "0  400184.25        0  567595.43         567595.43  2011  San Francisco  \n",
            "1  137811.38        0  538909.28         538909.28  2011  San Francisco  \n",
            "2    16452.6        0  335279.91         335279.91  2011  San Francisco  \n",
            "3   198306.9        0  332343.61         332343.61  2011  San Francisco  \n",
            "4  182234.59        0  326373.19         326373.19  2011  San Francisco  \n"
          ]
        }
      ],
      "source": [
        "# Drop unnecessary columns\n",
        "sal_data.drop(['Id', 'EmployeeName'], axis=1, inplace=True)\n",
        "\n",
        "# Check the first few rows after dropping\n",
        "print(sal_data.head())"
      ]
    },
    {
      "cell_type": "code",
      "execution_count": null,
      "metadata": {
        "colab": {
          "base_uri": "https://localhost:8080/"
        },
        "id": "jo_ZEc9PF06S",
        "outputId": "d5786323-b402-4367-d1b1-52c9b65b5b44"
      },
      "outputs": [
        {
          "output_type": "stream",
          "name": "stdout",
          "text": [
            "['GENERAL MANAGER-METROPOLITAN TRANSIT AUTHORITY'\n",
            " 'CAPTAIN III (POLICE DEPARTMENT)' 'WIRE ROPE CABLE MAINTENANCE MECHANIC'\n",
            " ... 'Conversion' 'Cashier 3' 'Not provided']\n",
            "['San Francisco']\n"
          ]
        }
      ],
      "source": [
        "# Check for unique values in 'JobTitle' and 'Agency'\n",
        "print(sal_data['JobTitle'].unique())\n",
        "print(sal_data['Agency'].unique())"
      ]
    },
    {
      "cell_type": "code",
      "execution_count": null,
      "metadata": {
        "colab": {
          "base_uri": "https://localhost:8080/"
        },
        "id": "uPWh4wEMF31q",
        "outputId": "29ae71e3-2f74-477d-8cd9-6e341e0d9330"
      },
      "outputs": [
        {
          "output_type": "stream",
          "name": "stdout",
          "text": [
            "                                         JobTitle         Agency\n",
            "0  GENERAL MANAGER-METROPOLITAN TRANSIT AUTHORITY  San Francisco\n",
            "1                 CAPTAIN III (POLICE DEPARTMENT)  San Francisco\n",
            "2                 CAPTAIN III (POLICE DEPARTMENT)  San Francisco\n",
            "3            WIRE ROPE CABLE MAINTENANCE MECHANIC  San Francisco\n",
            "4    DEPUTY CHIEF OF DEPARTMENT,(FIRE DEPARTMENT)  San Francisco\n"
          ]
        }
      ],
      "source": [
        "# Check if there are any leading/trailing spaces in 'JobTitle' or 'Agency'\n",
        "sal_data['JobTitle'] = sal_data['JobTitle'].str.strip()\n",
        "sal_data['Agency'] = sal_data['Agency'].str.strip()\n",
        "\n",
        "# Check the first few rows to see the cleaned values\n",
        "print(sal_data[['JobTitle', 'Agency']].head())"
      ]
    },
    {
      "cell_type": "code",
      "execution_count": null,
      "metadata": {
        "colab": {
          "base_uri": "https://localhost:8080/"
        },
        "id": "MHs9hW25GIXX",
        "outputId": "38db3146-fef0-4de7-ef77-1f8aeb3482fa"
      },
      "outputs": [
        {
          "output_type": "stream",
          "name": "stdout",
          "text": [
            "Empty DataFrame\n",
            "Columns: [JobTitle]\n",
            "Index: []\n",
            "Empty DataFrame\n",
            "Columns: [Agency]\n",
            "Index: []\n"
          ]
        }
      ],
      "source": [
        "import re\n",
        "\n",
        "# Check for non-ASCII characters in 'JobTitle' and 'Agency'\n",
        "non_ascii_jobtitle = sal_data[sal_data['JobTitle'].apply(lambda x: bool(re.search(r'[^\\x00-\\x7F]+', x)))]\n",
        "non_ascii_agency = sal_data[sal_data['Agency'].apply(lambda x: bool(re.search(r'[^\\x00-\\x7F]+', x)))]\n",
        "\n",
        "# Print rows with non-ASCII characters\n",
        "print(non_ascii_jobtitle[['JobTitle']])\n",
        "print(non_ascii_agency[['Agency']])"
      ]
    },
    {
      "cell_type": "code",
      "execution_count": null,
      "metadata": {
        "colab": {
          "base_uri": "https://localhost:8080/"
        },
        "id": "1-nxA0vkGMIN",
        "outputId": "5b883896-090e-434a-e5f3-7e85b94d65fa"
      },
      "outputs": [
        {
          "output_type": "stream",
          "name": "stdout",
          "text": [
            "JobTitle            0\n",
            "BasePay             4\n",
            "OvertimePay         4\n",
            "OtherPay            4\n",
            "Benefits            4\n",
            "TotalPay            0\n",
            "TotalPayBenefits    0\n",
            "Year                0\n",
            "Agency              0\n",
            "dtype: int64\n"
          ]
        }
      ],
      "source": [
        "# Replace non-numeric values with NaN in relevant columns\n",
        "sal_data['BasePay'] = pd.to_numeric(sal_data['BasePay'], errors='coerce')\n",
        "sal_data['OvertimePay'] = pd.to_numeric(sal_data['OvertimePay'], errors='coerce')\n",
        "sal_data['OtherPay'] = pd.to_numeric(sal_data['OtherPay'], errors='coerce')\n",
        "sal_data['Benefits'] = pd.to_numeric(sal_data['Benefits'], errors='coerce')\n",
        "sal_data['TotalPay'] = pd.to_numeric(sal_data['TotalPay'], errors='coerce')\n",
        "sal_data['TotalPayBenefits'] = pd.to_numeric(sal_data['TotalPayBenefits'], errors='coerce')\n",
        "\n",
        "# Check for non-numeric values now\n",
        "print(sal_data.isnull().sum())"
      ]
    },
    {
      "cell_type": "code",
      "execution_count": null,
      "metadata": {
        "colab": {
          "base_uri": "https://localhost:8080/"
        },
        "id": "zjbPrIVQGObu",
        "outputId": "e38d11a3-d171-4f23-ca65-a68e5204a4fb"
      },
      "outputs": [
        {
          "output_type": "stream",
          "name": "stdout",
          "text": [
            "JobTitle            0\n",
            "BasePay             0\n",
            "OvertimePay         0\n",
            "OtherPay            0\n",
            "Benefits            0\n",
            "TotalPay            0\n",
            "TotalPayBenefits    0\n",
            "Year                0\n",
            "Agency              0\n",
            "dtype: int64\n"
          ]
        }
      ],
      "source": [
        "# Fill NaN values with 0 (or use dropna() to remove rows)\n",
        "sal_data.fillna(0, inplace=True)\n",
        "\n",
        "# Re-check for missing values\n",
        "print(sal_data.isnull().sum())"
      ]
    },
    {
      "cell_type": "code",
      "execution_count": null,
      "metadata": {
        "colab": {
          "base_uri": "https://localhost:8080/",
          "height": 699
        },
        "id": "SXN7t4ZCGRIL",
        "outputId": "48cb896a-598c-4b56-9f13-d267ed4f4864"
      },
      "outputs": [
        {
          "output_type": "display_data",
          "data": {
            "text/plain": [
              "<Figure size 1000x800 with 2 Axes>"
            ],
            "image/png": "[encoded data removed]"
          },
          "metadata": {}
        }
      ],
      "source": [
        "# Drop non-numeric columns\n",
        "sal_data_numeric = sal_data.select_dtypes(include=[np.number])\n",
        "\n",
        "# Calculate correlation matrix\n",
        "correlation_matrix = sal_data_numeric.corr()\n",
        "\n",
        "# Plot the correlation matrix using heatmap\n",
        "plt.figure(figsize=(10, 8))\n",
        "sns.heatmap(correlation_matrix, annot=True, cmap='coolwarm', fmt='.2f', linewidths=0.5)\n",
        "plt.title('Correlation Matrix')\n",
        "plt.show()\n"
      ]
    },
    {
      "cell_type": "markdown",
      "source": [
        "# **Linear Regression**"
      ],
      "metadata": {
        "id": "roODte5itSlH"
      }
    },
    {
      "cell_type": "code",
      "execution_count": null,
      "metadata": {
        "colab": {
          "base_uri": "https://localhost:8080/"
        },
        "id": "2V6lx7WVGXZO",
        "outputId": "8989b1cb-35e9-4eef-8841-cd2b848e24af"
      },
      "outputs": [
        {
          "output_type": "stream",
          "name": "stdout",
          "text": [
            "Mean Squared Error: 5.182701926993796e-21\n",
            "R-squared: 1.0\n"
          ]
        }
      ],
      "source": [
        "# Import necessary libraries\n",
        "from sklearn.model_selection import train_test_split\n",
        "from sklearn.linear_model import LinearRegression\n",
        "from sklearn.metrics import mean_squared_error, r2_score\n",
        "\n",
        "# Define features (X) and target (y)\n",
        "X = sal_data_numeric.drop('TotalPay', axis=1)  # Features\n",
        "y = sal_data_numeric['TotalPay']  # Target variable\n",
        "\n",
        "# Split the data into training and testing sets\n",
        "X_train, X_test, y_train, y_test = train_test_split(X, y, test_size=0.2, random_state=42)\n",
        "\n",
        "# Initialize the Linear Regression model\n",
        "model = LinearRegression()\n",
        "\n",
        "# Train the model\n",
        "model.fit(X_train, y_train)\n",
        "\n",
        "# Predict on the test set\n",
        "y_pred = model.predict(X_test)\n",
        "\n",
        "# Evaluate the model\n",
        "mse = mean_squared_error(y_test, y_pred)\n",
        "r2 = r2_score(y_test, y_pred)\n",
        "\n",
        "# Print the results\n",
        "print(f'Mean Squared Error: {mse}')\n",
        "print(f'R-squared: {r2}')\n"
      ]
    },
    {
      "cell_type": "markdown",
      "source": [
        "# **Ridge Regression**"
      ],
      "metadata": {
        "id": "2pGPUHrfth_M"
      }
    },
    {
      "cell_type": "code",
      "execution_count": null,
      "metadata": {
        "colab": {
          "base_uri": "https://localhost:8080/"
        },
        "id": "njbTlh5kGBDC",
        "outputId": "bae75274-3c77-4057-ba6a-40e62a52c298"
      },
      "outputs": [
        {
          "output_type": "stream",
          "name": "stdout",
          "text": [
            "🔵 Ridge Regression Results:\n",
            "Mean Squared Error: 5.004767629839177e-19\n",
            "R-squared Score: 1.0\n"
          ]
        }
      ],
      "source": [
        "from sklearn.linear_model import Ridge\n",
        "from sklearn.metrics import mean_squared_error, r2_score\n",
        "\n",
        "# Define features and target again (if needed)\n",
        "X = sal_data_numeric.drop('TotalPay', axis=1)\n",
        "y = sal_data_numeric['TotalPay']\n",
        "\n",
        "# Split the data\n",
        "from sklearn.model_selection import train_test_split\n",
        "X_train, X_test, y_train, y_test = train_test_split(X, y, test_size=0.2, random_state=42)\n",
        "\n",
        "# Initialize Ridge Regression with alpha (regularization strength)\n",
        "ridge_model = Ridge(alpha=1)\n",
        "\n",
        "# Train the model\n",
        "ridge_model.fit(X_train, y_train)\n",
        "\n",
        "# Predict on test set\n",
        "y_pred_ridge = ridge_model.predict(X_test)\n",
        "\n",
        "# Evaluate\n",
        "mse_ridge = mean_squared_error(y_test, y_pred_ridge)\n",
        "r2_ridge = r2_score(y_test, y_pred_ridge)\n",
        "\n",
        "print(f\"🔵 Ridge Regression Results:\")\n",
        "print(f\"Mean Squared Error: {mse_ridge}\")\n",
        "print(f\"R-squared Score: {r2_ridge}\")\n"
      ]
    },
    {
      "cell_type": "markdown",
      "source": [
        "# **Lasso Regression**"
      ],
      "metadata": {
        "id": "3lhSrEBPtw_9"
      }
    },
    {
      "cell_type": "code",
      "execution_count": null,
      "metadata": {
        "colab": {
          "base_uri": "https://localhost:8080/"
        },
        "id": "gTgMOt3TGiMb",
        "outputId": "b69a970a-033b-458c-9b2a-5b1f20f38fc8"
      },
      "outputs": [
        {
          "output_type": "stream",
          "name": "stdout",
          "text": [
            "🟢 Lasso Regression Results:\n",
            "Mean Squared Error: 0.7033919759575549\n",
            "R-squared Score: 0.9999999997245586\n"
          ]
        }
      ],
      "source": [
        "from sklearn.linear_model import Lasso\n",
        "from sklearn.metrics import mean_squared_error, r2_score\n",
        "\n",
        "# Define features and target again (if not already defined)\n",
        "X = sal_data_numeric.drop('TotalPay', axis=1)\n",
        "y = sal_data_numeric['TotalPay']\n",
        "\n",
        "# Split the data\n",
        "from sklearn.model_selection import train_test_split\n",
        "X_train, X_test, y_train, y_test = train_test_split(X, y, test_size=0.2, random_state=42)\n",
        "\n",
        "# Initialize Lasso Regression with alpha value\n",
        "lasso_model = Lasso(alpha=1.0)\n",
        "\n",
        "# Train the model\n",
        "lasso_model.fit(X_train, y_train)\n",
        "\n",
        "# Predict on the test set\n",
        "y_pred_lasso = lasso_model.predict(X_test)\n",
        "\n",
        "# Evaluate the model\n",
        "mse_lasso = mean_squared_error(y_test, y_pred_lasso)\n",
        "r2_lasso = r2_score(y_test, y_pred_lasso)\n",
        "\n",
        "print(\"🟢 Lasso Regression Results:\")\n",
        "print(f\"Mean Squared Error: {mse_lasso}\")\n",
        "print(f\"R-squared Score: {r2_lasso}\")\n"
      ]
    },
    {
      "cell_type": "markdown",
      "source": [
        "# **ElasticNet Regression**"
      ],
      "metadata": {
        "id": "tu3rV2KfuJfX"
      }
    },
    {
      "cell_type": "code",
      "execution_count": null,
      "metadata": {
        "colab": {
          "base_uri": "https://localhost:8080/"
        },
        "id": "ZEf1Uj_vIuus",
        "outputId": "317d6e1a-f478-47ed-cab8-5799ae112944"
      },
      "outputs": [
        {
          "output_type": "stream",
          "name": "stdout",
          "text": [
            "🟣 ElasticNet Regression Results:\n",
            "Mean Squared Error: 0.16069957824956188\n",
            "R-squared Score: 0.9999999999370716\n"
          ]
        }
      ],
      "source": [
        "from sklearn.linear_model import ElasticNet\n",
        "from sklearn.metrics import mean_squared_error, r2_score\n",
        "\n",
        "# Define features and target (if not already defined)\n",
        "X = sal_data_numeric.drop('TotalPay', axis=1)\n",
        "y = sal_data_numeric['TotalPay']\n",
        "\n",
        "# Train-test split\n",
        "from sklearn.model_selection import train_test_split\n",
        "X_train, X_test, y_train, y_test = train_test_split(X, y, test_size=0.2, random_state=42)\n",
        "\n",
        "# Initialize ElasticNet Regression\n",
        "elastic_model = ElasticNet(alpha=1.0, l1_ratio=0.5)  # l1_ratio=0.5 means equal mix of L1 and L2\n",
        "\n",
        "# Train the model\n",
        "elastic_model.fit(X_train, y_train)\n",
        "\n",
        "# Predict on the test set\n",
        "y_pred_elastic = elastic_model.predict(X_test)\n",
        "\n",
        "# Evaluate\n",
        "mse_elastic = mean_squared_error(y_test, y_pred_elastic)\n",
        "r2_elastic = r2_score(y_test, y_pred_elastic)\n",
        "\n",
        "print(\"🟣 ElasticNet Regression Results:\")\n",
        "print(f\"Mean Squared Error: {mse_elastic}\")\n",
        "print(f\"R-squared Score: {r2_elastic}\")\n"
      ]
    },
    {
      "cell_type": "markdown",
      "source": [
        "# **Decision Tree Regressor**"
      ],
      "metadata": {
        "id": "D6-cNho4uW0f"
      }
    },
    {
      "cell_type": "code",
      "execution_count": null,
      "metadata": {
        "colab": {
          "base_uri": "https://localhost:8080/"
        },
        "id": "EaCNUp-NJEak",
        "outputId": "4a34525c-1e9c-4844-f945-897c3d55c2fa"
      },
      "outputs": [
        {
          "output_type": "stream",
          "name": "stdout",
          "text": [
            "🌳 Decision Tree Regression Results:\n",
            "Mean Squared Error: 2839664.36213644\n",
            "R-squared Score: 0.9988880151001515\n"
          ]
        }
      ],
      "source": [
        "from sklearn.tree import DecisionTreeRegressor\n",
        "from sklearn.metrics import mean_squared_error, r2_score\n",
        "\n",
        "# Define features and target\n",
        "X = sal_data_numeric.drop('TotalPay', axis=1)\n",
        "y = sal_data_numeric['TotalPay']\n",
        "\n",
        "# Train-test split\n",
        "from sklearn.model_selection import train_test_split\n",
        "X_train, X_test, y_train, y_test = train_test_split(X, y, test_size=0.2, random_state=42)\n",
        "\n",
        "# Initialize Decision Tree Regressor\n",
        "dt_model = DecisionTreeRegressor(random_state=42)\n",
        "\n",
        "# Train the model\n",
        "dt_model.fit(X_train, y_train)\n",
        "\n",
        "# Predict on test set\n",
        "y_pred_dt = dt_model.predict(X_test)\n",
        "\n",
        "# Evaluate the model\n",
        "mse_dt = mean_squared_error(y_test, y_pred_dt)\n",
        "r2_dt = r2_score(y_test, y_pred_dt)\n",
        "\n",
        "print(\"🌳 Decision Tree Regression Results:\")\n",
        "print(f\"Mean Squared Error: {mse_dt}\")\n",
        "print(f\"R-squared Score: {r2_dt}\")\n"
      ]
    },
    {
      "cell_type": "markdown",
      "source": [
        "# **Random Forest Regressor**"
      ],
      "metadata": {
        "id": "sgjxMLLaufWc"
      }
    },
    {
      "cell_type": "code",
      "execution_count": null,
      "metadata": {
        "colab": {
          "base_uri": "https://localhost:8080/"
        },
        "id": "YBocfWftKPI-",
        "outputId": "e4d4c529-4ff6-4d6a-d233-1d183c13de81"
      },
      "outputs": [
        {
          "output_type": "stream",
          "name": "stdout",
          "text": [
            "🌲 Random Forest Regression Results:\n",
            "Mean Squared Error: 1372128.521683186\n",
            "R-squared Score: 0.9994626878383559\n"
          ]
        }
      ],
      "source": [
        "from sklearn.ensemble import RandomForestRegressor\n",
        "from sklearn.metrics import mean_squared_error, r2_score\n",
        "\n",
        "# Define features and target\n",
        "X = sal_data_numeric.drop('TotalPay', axis=1)\n",
        "y = sal_data_numeric['TotalPay']\n",
        "\n",
        "# Train-test split\n",
        "from sklearn.model_selection import train_test_split\n",
        "X_train, X_test, y_train, y_test = train_test_split(X, y, test_size=0.2, random_state=42)\n",
        "\n",
        "# Initialize Random Forest Regressor\n",
        "rf_model = RandomForestRegressor(n_estimators=100, random_state=42)\n",
        "\n",
        "# Train the model\n",
        "rf_model.fit(X_train, y_train)\n",
        "\n",
        "# Predict on test set\n",
        "y_pred_rf = rf_model.predict(X_test)\n",
        "\n",
        "# Evaluate the model\n",
        "mse_rf = mean_squared_error(y_test, y_pred_rf)\n",
        "r2_rf = r2_score(y_test, y_pred_rf)\n",
        "\n",
        "print(\"🌲 Random Forest Regression Results:\")\n",
        "print(f\"Mean Squared Error: {mse_rf}\")\n",
        "print(f\"R-squared Score: {r2_rf}\")\n"
      ]
    },
    {
      "cell_type": "markdown",
      "source": [
        "# **Gradient Boosting Regressor**"
      ],
      "metadata": {
        "id": "GwGN65VnumQj"
      }
    },
    {
      "cell_type": "code",
      "execution_count": null,
      "metadata": {
        "colab": {
          "base_uri": "https://localhost:8080/"
        },
        "id": "u78xZAofLB6P",
        "outputId": "cccc4ba7-791c-42d3-ecb0-3fc50b2bb11c"
      },
      "outputs": [
        {
          "output_type": "stream",
          "name": "stdout",
          "text": [
            "⚡ Gradient Boosting Regression Results:\n",
            "Mean Squared Error: 4340691.548663867\n",
            "R-squared Score: 0.9983002274771012\n"
          ]
        }
      ],
      "source": [
        "from sklearn.ensemble import GradientBoostingRegressor\n",
        "from sklearn.metrics import mean_squared_error, r2_score\n",
        "\n",
        "# Define features and target\n",
        "X = sal_data_numeric.drop('TotalPay', axis=1)\n",
        "y = sal_data_numeric['TotalPay']\n",
        "\n",
        "# Train-test split\n",
        "from sklearn.model_selection import train_test_split\n",
        "X_train, X_test, y_train, y_test = train_test_split(X, y, test_size=0.2, random_state=42)\n",
        "\n",
        "# Initialize Gradient Boosting Regressor\n",
        "gb_model = GradientBoostingRegressor(n_estimators=100, learning_rate=0.1, max_depth=3, random_state=42)\n",
        "\n",
        "# Train the model\n",
        "gb_model.fit(X_train, y_train)\n",
        "\n",
        "# Predict on the test set\n",
        "y_pred_gb = gb_model.predict(X_test)\n",
        "\n",
        "# Evaluate the model\n",
        "mse_gb = mean_squared_error(y_test, y_pred_gb)\n",
        "r2_gb = r2_score(y_test, y_pred_gb)\n",
        "\n",
        "print(\"⚡ Gradient Boosting Regression Results:\")\n",
        "print(f\"Mean Squared Error: {mse_gb}\")\n",
        "print(f\"R-squared Score: {r2_gb}\")\n"
      ]
    },
    {
      "cell_type": "markdown",
      "source": [
        "# **XGB Regressor**"
      ],
      "metadata": {
        "id": "7e6j0WokuthH"
      }
    },
    {
      "cell_type": "code",
      "execution_count": null,
      "metadata": {
        "colab": {
          "base_uri": "https://localhost:8080/"
        },
        "id": "1c3iNo6WLbSl",
        "outputId": "c5f80e1f-c188-4a6c-97c0-6dee09e9469f"
      },
      "outputs": [
        {
          "output_type": "stream",
          "name": "stdout",
          "text": [
            "🚀 XGBoost Regression Results:\n",
            "Mean Squared Error: 9080525.163534593\n",
            "R-squared Score: 0.9964441548095676\n"
          ]
        }
      ],
      "source": [
        "\n",
        "from xgboost import XGBRegressor\n",
        "from sklearn.metrics import mean_squared_error, r2_score\n",
        "from sklearn.model_selection import train_test_split\n",
        "\n",
        "# Define features and target\n",
        "X = sal_data_numeric.drop('TotalPay', axis=1)\n",
        "y = sal_data_numeric['TotalPay']\n",
        "\n",
        "# Train-test split\n",
        "X_train, X_test, y_train, y_test = train_test_split(X, y, test_size=0.2, random_state=42)\n",
        "\n",
        "# Initialize XGBoost Regressor\n",
        "xgb_model = XGBRegressor(n_estimators=100, learning_rate=0.1, max_depth=3, random_state=42)\n",
        "\n",
        "# Train the model\n",
        "xgb_model.fit(X_train, y_train)\n",
        "\n",
        "# Predict on test set\n",
        "y_pred_xgb = xgb_model.predict(X_test)\n",
        "\n",
        "# Evaluate\n",
        "mse_xgb = mean_squared_error(y_test, y_pred_xgb)\n",
        "r2_xgb = r2_score(y_test, y_pred_xgb)\n",
        "\n",
        "print(\"🚀 XGBoost Regression Results:\")\n",
        "print(f\"Mean Squared Error: {mse_xgb}\")\n",
        "print(f\"R-squared Score: {r2_xgb}\")\n"
      ]
    },
    {
      "cell_type": "markdown",
      "source": [
        "# **SVR**"
      ],
      "metadata": {
        "id": "cauDKYlEu4Rj"
      }
    },
    {
      "cell_type": "code",
      "execution_count": null,
      "metadata": {
        "id": "FrZHFRVtLy0E",
        "colab": {
          "base_uri": "https://localhost:8080/"
        },
        "outputId": "f3a7dbf6-fa50-49cc-f0f4-a618bd99e1b5"
      },
      "outputs": [
        {
          "output_type": "stream",
          "name": "stdout",
          "text": [
            "📈 Support Vector Regression (SVR) Results:\n",
            "Mean Squared Error: 12579542.397824323\n",
            "R-squared Score: 0.9950739737484816\n"
          ]
        }
      ],
      "source": [
        "from sklearn.svm import SVR\n",
        "from sklearn.preprocessing import StandardScaler\n",
        "from sklearn.metrics import mean_squared_error, r2_score\n",
        "from sklearn.model_selection import train_test_split\n",
        "\n",
        "# Define features and target\n",
        "X = sal_data_numeric.drop('TotalPay', axis=1)\n",
        "y = sal_data_numeric['TotalPay']\n",
        "\n",
        "# Scale features (SVR is sensitive to feature scaling)\n",
        "scaler_X = StandardScaler()\n",
        "scaler_y = StandardScaler()\n",
        "\n",
        "X_scaled = scaler_X.fit_transform(X)\n",
        "y_scaled = scaler_y.fit_transform(y.values.reshape(-1, 1)).ravel()  # flatten y\n",
        "\n",
        "# Train-test split\n",
        "X_train, X_test, y_train, y_test = train_test_split(X_scaled, y_scaled, test_size=0.2, random_state=42)\n",
        "\n",
        "# Initialize SVR model with RBF kernel\n",
        "svr_model = SVR(kernel='rbf', C=100, epsilon=0.1)\n",
        "\n",
        "# Train the model\n",
        "svr_model.fit(X_train, y_train)\n",
        "\n",
        "# Predict on the test set\n",
        "y_pred_scaled = svr_model.predict(X_test)\n",
        "\n",
        "# Inverse transform the prediction and actual values\n",
        "y_pred = scaler_y.inverse_transform(y_pred_scaled.reshape(-1, 1))\n",
        "y_test_orig = scaler_y.inverse_transform(y_test.reshape(-1, 1))\n",
        "\n",
        "# Evaluate\n",
        "mse_svr = mean_squared_error(y_test_orig, y_pred)\n",
        "r2_svr = r2_score(y_test_orig, y_pred)\n",
        "\n",
        "print(\"📈 Support Vector Regression (SVR) Results:\")\n",
        "print(f\"Mean Squared Error: {mse_svr}\")\n",
        "print(f\"R-squared Score: {r2_svr}\")\n"
      ]
    },
    {
      "cell_type": "code",
      "source": [
        "import matplotlib.pyplot as plt\n",
        "\n",
        "# Plot actual vs predicted for Linear Regression\n",
        "plt.figure(figsize=(10, 5))\n",
        "\n",
        "# Linear Regression plot\n",
        "plt.subplot(1, 2, 1)\n",
        "plt.scatter(y_test, model.predict(X_test), color='blue', alpha=1)\n",
        "plt.plot([y_test.min(), y_test.max()], [y_test.min(), y_test.max()], 'k--', lw=2)\n",
        "plt.xlabel('Actual TotalPay')\n",
        "plt.ylabel('Predicted TotalPay')\n",
        "plt.title('Linear Regression\\nActual vs Predicted')\n",
        "\n",
        "# Ridge Regression plot\n",
        "from sklearn.linear_model import Ridge\n",
        "ridge_model = Ridge()\n",
        "ridge_model.fit(X_train, y_train)\n",
        "ridge_pred = ridge_model.predict(X_test)\n",
        "\n",
        "plt.subplot(1, 2, 2)\n",
        "plt.scatter(y_test, ridge_pred, color='green', alpha=0.5)\n",
        "plt.plot([y_test.min(), y_test.max()], [y_test.min(), y_test.max()], 'k--', lw=2)\n",
        "plt.xlabel('Actual TotalPay')\n",
        "plt.ylabel('Predicted TotalPay')\n",
        "plt.title('Ridge Regression\\nActual vs Predicted')\n",
        "\n",
        "plt.tight_layout()\n",
        "plt.show()\n"
      ],
      "metadata": {
        "colab": {
          "base_uri": "https://localhost:8080/",
          "height": 506
        },
        "id": "t2zxJiWVw2Gt",
        "outputId": "00eec32c-1865-458f-c7f2-a5f83b174c2e"
      },
      "execution_count": null,
      "outputs": [
        {
          "output_type": "display_data",
          "data": {
            "text/plain": [
              "<Figure size 1000x500 with 2 Axes>"
            ],
            "image/png": "[encoded data removed]"
          },
          "metadata": {}
        }
      ]
    }
  ],
  "metadata": {
    "colab": {
      "provenance": [],
      "mount_file_id": "1dS9SqbvipOQ-WVKAVttpqZ6lQTQkF0dy",
      "authorship_tag": "ABX9TyORNLukDDkfNFsSHQO+ao6g",
      "include_colab_link": true
    },
    "kernelspec": {
      "display_name": "Python 3",
      "name": "python3"
    },
    "language_info": {
      "name": "python"
    }
  },
  "nbformat": 4,
  "nbformat_minor": 0
}